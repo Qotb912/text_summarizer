{
 "cells": [
  {
   "cell_type": "code",
   "execution_count": 1,
   "metadata": {},
   "outputs": [],
   "source": [
    "# Entity\n",
    "from dataclasses import dataclass\n",
    "from pathlib import Path\n",
    "\n",
    "@dataclass(frozen=True)\n",
    "class DataValidationConfig:\n",
    "    root_dir : Path\n",
    "    STATUS_FILE: str\n",
    "    ALL_REQUIRED_FILES: list"
   ]
  },
  {
   "cell_type": "code",
   "execution_count": 4,
   "metadata": {},
   "outputs": [],
   "source": [
    "from text_summarizer.constants import *\n",
    "from text_summarizer.utils.comon import read_yaml, create_directories\n",
    "\n",
    "class ConfigurationManager:\n",
    "    def __init__(\n",
    "        self,\n",
    "        config_file_path =PROJECT_DIR.joinpath( CONFIG_FILE_PATH),\n",
    "        params_file_path =PROJECT_DIR.joinpath( PARAMS_FILE_PATH)):\n",
    "        \n",
    "        self.config = read_yaml(config_file_path)\n",
    "        self.params = read_yaml(params_file_path)\n",
    "        \n",
    "        \n",
    "        create_directories([PROJECT_DIR.joinpath(self.config.artifacts_root)])\n",
    "        \n",
    "    def get_data_validation(self) -> DataValidationConfig:\n",
    "        config = self.config.data_validation\n",
    "        create_directories([PROJECT_DIR.joinpath(config.root_dir)])\n",
    "        data_validation_config = DataValidationConfig(\n",
    "            root_dir= PROJECT_DIR.joinpath( config.root_dir),\n",
    "            STATUS_FILE= PROJECT_DIR.joinpath( config.STATUS_FILE),\n",
    "            ALL_REQUIRED_FILES= config.ALL_REQUIRED_FILES,\n",
    "        )\n",
    "        return data_validation_config\n",
    "    \n"
   ]
  },
  {
   "cell_type": "code",
   "execution_count": null,
   "metadata": {},
   "outputs": [],
   "source": []
  },
  {
   "cell_type": "code",
   "execution_count": 5,
   "metadata": {},
   "outputs": [],
   "source": [
    "#  Componetes\n",
    "import os\n",
    "from text_summarizer.logging import logger \n",
    "from text_summarizer.constants import *\n",
    "\n",
    "class DataValidation:\n",
    "    def __init__(self, config: DataValidationConfig):\n",
    "        self.config = config\n",
    "\n",
    "    def validate_all_files_exist(self)->bool:\n",
    "        try:\n",
    "            validation_status = None\n",
    "            all_files = os.listdir(os.path.join(\n",
    "                PROJECT_DIR,\"artifacts\",\"data_ingestion\",\"samsum_dataset\"\n",
    "            ))\n",
    "            for file in all_files:\n",
    "                if file not in self.config.ALL_REQUIRED_FILES:\n",
    "                    validation_status = False\n",
    "                    with open(self.config.STATUS_FILE , 'w') as f:\n",
    "                        f.write(f\"Validation status: {validation_status}\")\n",
    "                else:\n",
    "                    validation_status = True\n",
    "                    with open(self.config.STATUS_FILE , 'w') as f:\n",
    "                        f.write(f\"Validation status: {validation_status}\")\n",
    "            return validation_status\n",
    "        except Exception as e:\n",
    "            logger.info(e)\n",
    "            raise e\n"
   ]
  },
  {
   "cell_type": "code",
   "execution_count": 6,
   "metadata": {},
   "outputs": [
    {
     "name": "stdout",
     "output_type": "stream",
     "text": [
      "{'artifacts_root': 'artifacts', 'data_ingestion': {'root_dir': 'artifacts/data_ingestion', 'source_URL': 'https://github.com/entbappy/Branching-tutorial/raw/master/summarizer-data.zip', 'local_data_file': 'artifacts/data_ingestion/data.zip', 'unzip_dir': 'artifacts/data_ingestion'}, 'data_validation': {'root_dir': 'artifacts/data_validation', 'STATUS_FILE': 'artifacts/data_validation/status.txt', 'ALL_REQUIRED_FILES': ['train', 'test', 'validation']}}\n",
      "<class 'dict'>\n",
      "{'artifacts_root': 'artifacts', 'data_ingestion': {'root_dir': 'artifacts/data_ingestion', 'source_URL': 'https://github.com/entbappy/Branching-tutorial/raw/master/summarizer-data.zip', 'local_data_file': 'artifacts/data_ingestion/data.zip', 'unzip_dir': 'artifacts/data_ingestion'}, 'data_validation': {'root_dir': 'artifacts/data_validation', 'STATUS_FILE': 'artifacts/data_validation/status.txt', 'ALL_REQUIRED_FILES': ['train', 'test', 'validation']}}\n",
      "<class 'box.config_box.ConfigBox'>\n",
      "[2023-06-04 23:23:50,882: text_summarizer_logger - INFO:  comon: line 33, yaml file: G:\\currentProjects\\AI\\text_summarizer\\config\\config.yaml loaded successfully]\n",
      "{'key': 'value'}\n",
      "<class 'dict'>\n",
      "{'key': 'value'}\n",
      "<class 'box.config_box.ConfigBox'>\n",
      "[2023-06-04 23:23:50,889: text_summarizer_logger - INFO:  comon: line 33, yaml file: G:\\currentProjects\\AI\\text_summarizer\\params.yaml loaded successfully]\n",
      "[2023-06-04 23:23:50,893: text_summarizer_logger - INFO:  comon: line 64, created directory: G:\\currentProjects\\AI\\text_summarizer\\artifacts]\n",
      "<__main__.ConfigurationManager object at 0x00000111D32D2E80>\n",
      "[2023-06-04 23:23:50,897: text_summarizer_logger - INFO:  comon: line 64, created directory: G:\\currentProjects\\AI\\text_summarizer\\artifacts\\data_validation]\n"
     ]
    }
   ],
   "source": [
    "try:\n",
    "    config = ConfigurationManager()\n",
    "    print(config)\n",
    "    data_validation_config = config.get_data_validation()\n",
    "    data_validation = DataValidation(config=data_validation_config)\n",
    "    data_validation.validate_all_files_exist()\n",
    "except Exception as e:\n",
    "    raise e"
   ]
  },
  {
   "cell_type": "code",
   "execution_count": null,
   "metadata": {},
   "outputs": [],
   "source": []
  }
 ],
 "metadata": {
  "kernelspec": {
   "display_name": "text_summazrizer",
   "language": "python",
   "name": "python3"
  },
  "language_info": {
   "codemirror_mode": {
    "name": "ipython",
    "version": 3
   },
   "file_extension": ".py",
   "mimetype": "text/x-python",
   "name": "python",
   "nbconvert_exporter": "python",
   "pygments_lexer": "ipython3",
   "version": "3.8.16"
  },
  "orig_nbformat": 4
 },
 "nbformat": 4,
 "nbformat_minor": 2
}
