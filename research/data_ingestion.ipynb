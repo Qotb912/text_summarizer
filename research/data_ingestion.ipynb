{
 "cells": [
  {
   "cell_type": "code",
   "execution_count": 56,
   "metadata": {},
   "outputs": [
    {
     "data": {
      "text/plain": [
       "'g:\\\\'"
      ]
     },
     "execution_count": 56,
     "metadata": {},
     "output_type": "execute_result"
    }
   ],
   "source": [
    "%pwd"
   ]
  },
  {
   "cell_type": "code",
   "execution_count": 57,
   "metadata": {},
   "outputs": [],
   "source": [
    "import os"
   ]
  },
  {
   "cell_type": "code",
   "execution_count": 58,
   "metadata": {},
   "outputs": [],
   "source": [
    "os.chdir(\"../\")"
   ]
  },
  {
   "cell_type": "code",
   "execution_count": 59,
   "metadata": {},
   "outputs": [
    {
     "data": {
      "text/plain": [
       "'g:\\\\'"
      ]
     },
     "execution_count": 59,
     "metadata": {},
     "output_type": "execute_result"
    }
   ],
   "source": [
    "%pwd"
   ]
  },
  {
   "cell_type": "code",
   "execution_count": 60,
   "metadata": {},
   "outputs": [],
   "source": [
    "#  Entity\n",
    "from dataclasses import dataclass\n",
    "from pathlib import Path\n",
    "\n",
    "@dataclass(frozen=True)\n",
    "class DataIngestionConfig:\n",
    "    root_dir : Path\n",
    "    source_URL : str\n",
    "    local_data_file : Path\n",
    "    unzip_dir : Path\n"
   ]
  },
  {
   "cell_type": "code",
   "execution_count": 61,
   "metadata": {},
   "outputs": [],
   "source": [
    "# Configuration\n",
    "from text_summarizer.constants import *\n",
    "from text_summarizer.utils.comon import read_yaml, create_directories"
   ]
  },
  {
   "cell_type": "code",
   "execution_count": 72,
   "metadata": {},
   "outputs": [],
   "source": [
    "# Configuration\n",
    "class ConfigurationManager:\n",
    "    def __init__(\n",
    "            self,\n",
    "            config_file_path = PROJECT_DIR.joinpath( CONFIG_FILE_PATH),\n",
    "            params_file_path = PROJECT_DIR.joinpath(PARAMS_FILE_PATH)):\n",
    "        \n",
    "        self.config = read_yaml(config_file_path)\n",
    "        self.params = read_yaml(params_file_path)\n",
    "       \n",
    "\n",
    "        create_directories([PROJECT_DIR.joinpath(self.config.artifacts_root)])\n",
    "\n",
    "    def get_data_ingestion_config(self) -> DataIngestionConfig:\n",
    "        config = self.config.data_ingestion\n",
    "       \n",
    "        create_directories([PROJECT_DIR.joinpath(config.root_dir)])  \n",
    "        \n",
    "        data_ingestion_config = DataIngestionConfig(\n",
    "            root_dir = PROJECT_DIR.joinpath( config.root_dir),\n",
    "            source_URL =  config.source_URL,\n",
    "            local_data_file = PROJECT_DIR.joinpath( config.local_data_file),\n",
    "            unzip_dir = PROJECT_DIR.joinpath( config.unzip_dir)\n",
    "        )\n",
    "        \n",
    "        return data_ingestion_config\n",
    "    "
   ]
  },
  {
   "cell_type": "code",
   "execution_count": 63,
   "metadata": {},
   "outputs": [],
   "source": [
    "# Data Ingestion\n",
    "import os\n",
    "import urllib.request as req\n",
    "import zipfile\n",
    "from text_summarizer.logging import logger\n",
    "from text_summarizer.utils.comon import get_size\n",
    "\n"
   ]
  },
  {
   "cell_type": "code",
   "execution_count": 68,
   "metadata": {},
   "outputs": [],
   "source": [
    "# Data Ingestion\n",
    "class DataIngestion:\n",
    "    def __init__(self, config: DataIngestionConfig):\n",
    "        self.config = config\n",
    "    \n",
    "    def download_file(self):\n",
    "        if not os.path.exists(self.config.local_data_file):\n",
    "            filename, header = req.urlretrieve(\n",
    "                url=self.config.source_URL,\n",
    "                filename=self.config.local_data_file\n",
    "            )\n",
    "            logger.info(f\"{filename} downloaded successfully with following info: \\n{header}\")\n",
    "        else:\n",
    "            logger.info(f\"File already exists of size:{get_size(Path(self.config.local_data_file))}\")\n",
    "\n",
    "\n",
    "    def etract_zip_file(self):\n",
    "        unzip_path = self.config.unzip_dir\n",
    "        os.makedirs(unzip_path,exist_ok=True)\n",
    "        with zipfile.ZipFile(self.config.local_data_file , 'r') as zip_f:\n",
    "            zip_f.extractall(unzip_path)\n",
    "           "
   ]
  },
  {
   "cell_type": "code",
   "execution_count": 73,
   "metadata": {},
   "outputs": [
    {
     "name": "stdout",
     "output_type": "stream",
     "text": [
      "G:\\currentProjects\\AI\\text_summarizer\\config\\config.yaml\n",
      "[2023-06-04 03:46:15,249: text_summarizer_logger - INFO:  comon: line 29, yaml fole: G:\\currentProjects\\AI\\text_summarizer\\config\\config.yaml lodded successfully]\n",
      "G:\\currentProjects\\AI\\text_summarizer\\params.yaml\n",
      "[2023-06-04 03:46:15,254: text_summarizer_logger - INFO:  comon: line 29, yaml fole: G:\\currentProjects\\AI\\text_summarizer\\params.yaml lodded successfully]\n",
      "[2023-06-04 03:46:15,260: text_summarizer_logger - INFO:  comon: line 53, created directory: G:\\currentProjects\\AI\\text_summarizer\\artifacts]\n",
      "[2023-06-04 03:46:15,263: text_summarizer_logger - INFO:  comon: line 53, created directory: G:\\currentProjects\\AI\\text_summarizer\\artifacts\\data_ingestion]\n",
      "[2023-06-04 03:46:29,204: text_summarizer_logger - INFO:  2651356655: line 11, G:\\currentProjects\\AI\\text_summarizer\\artifacts\\data_ingestion\\data.zip downloaded successfully with following info: \n",
      "Connection: close\n",
      "Content-Length: 7903594\n",
      "Cache-Control: max-age=300\n",
      "Content-Security-Policy: default-src 'none'; style-src 'unsafe-inline'; sandbox\n",
      "Content-Type: application/zip\n",
      "ETag: \"dbc016a060da18070593b83afff580c9b300f0b6ea4147a7988433e04df246ca\"\n",
      "Strict-Transport-Security: max-age=31536000\n",
      "X-Content-Type-Options: nosniff\n",
      "X-Frame-Options: deny\n",
      "X-XSS-Protection: 1; mode=block\n",
      "X-GitHub-Request-Id: 7E56:0A67:61E04E:7694BE:647BDCC1\n",
      "Accept-Ranges: bytes\n",
      "Date: Sun, 04 Jun 2023 00:46:17 GMT\n",
      "Via: 1.1 varnish\n",
      "X-Served-By: cache-mrs10559-MRS\n",
      "X-Cache: HIT\n",
      "X-Cache-Hits: 0\n",
      "X-Timer: S1685839577.048593,VS0,VE141\n",
      "Vary: Authorization,Accept-Encoding,Origin\n",
      "Access-Control-Allow-Origin: *\n",
      "X-Fastly-Request-ID: 39a4d961cea58b530dcbad0c46f44e67650aa8d8\n",
      "Expires: Sun, 04 Jun 2023 00:51:17 GMT\n",
      "Source-Age: 0\n",
      "\n",
      "]\n"
     ]
    }
   ],
   "source": [
    "try:\n",
    "    config = ConfigurationManager()\n",
    "    data_ingestion_config = config.get_data_ingestion_config()\n",
    "    data_inngestion = DataIngestion(config=data_ingestion_config)\n",
    "    data_inngestion.download_file()\n",
    "    data_inngestion.etract_zip_file()\n",
    "except Exception as e:\n",
    "    raise e"
   ]
  },
  {
   "cell_type": "code",
   "execution_count": null,
   "metadata": {},
   "outputs": [
    {
     "name": "stdout",
     "output_type": "stream",
     "text": [
      "G:\\currentProjects\\AI\\text_summarizer\\config\\config.yaml\n",
      "{'artifacts_root': 'artifacts', 'data_ingestion': {'root_dir': 'artifacts/data_ingestion', 'source_URL': 'https://github.com/entbappy/Branching-tutorial/raw/master/summarizer-data.zip', 'local_data_file': 'artifacts/data_ingestion/data.zip', 'unzip_dir': 'artifacts/data_ingestion'}}\n",
      "[2023-06-03 21:51:12,888: text_summarizer_logger - INFO:  1600074454: line 15, yaml fole: G:\\currentProjects\\AI\\text_summarizer\\config\\config.yaml lodded successfully]\n"
     ]
    }
   ],
   "source": [
    "# import yaml\n",
    "# import os\n",
    "# from pathlib import Path\n",
    "# from text_summarizer.logging import  logger\n",
    "# from text_summarizer.constants import *\n",
    "# # path_to_ymal = os.path.join(\"../\",\"config\",\"config.yaml\")\n",
    "# # path_to_ymal = \"config/config.yaml\"\n",
    "# # path_to_ymal = \"../config/config.yaml\"\n",
    "# path_to_ymal = PROJECT_DIR.joinpath(CONFIG_FILE_PATH)\n",
    "\n",
    "# print(path_to_ymal)\n",
    "# with open(path_to_ymal) as f:\n",
    "#     content = yaml.safe_load(f)\n",
    "#     print(content)\n",
    "#     logger.info(f\"yaml fole: {path_to_ymal} lodded successfully\")"
   ]
  },
  {
   "cell_type": "code",
   "execution_count": null,
   "metadata": {},
   "outputs": [],
   "source": []
  },
  {
   "cell_type": "code",
   "execution_count": null,
   "metadata": {},
   "outputs": [],
   "source": []
  }
 ],
 "metadata": {
  "kernelspec": {
   "display_name": "text_summazrizer",
   "language": "python",
   "name": "python3"
  },
  "language_info": {
   "codemirror_mode": {
    "name": "ipython",
    "version": 3
   },
   "file_extension": ".py",
   "mimetype": "text/x-python",
   "name": "python",
   "nbconvert_exporter": "python",
   "pygments_lexer": "ipython3",
   "version": "3.8.16"
  },
  "orig_nbformat": 4
 },
 "nbformat": 4,
 "nbformat_minor": 2
}
