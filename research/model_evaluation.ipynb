{
 "cells": [
  {
   "cell_type": "code",
   "execution_count": 1,
   "metadata": {},
   "outputs": [],
   "source": [
    "from dataclasses import dataclass\n",
    "from pathlib import  Path\n",
    "\n",
    "@dataclass(frozen= True)\n",
    "class ModelEvaluationConfig:\n",
    "    root_dir: Path\n",
    "    data_path: Path\n",
    "    model_path: Path\n",
    "    tokenizer_path: Path\n",
    "    metric_file_name: Path\n"
   ]
  },
  {
   "cell_type": "code",
   "execution_count": 14,
   "metadata": {},
   "outputs": [
    {
     "ename": "NameError",
     "evalue": "name 'PROJECT_DIR2' is not defined",
     "output_type": "error",
     "traceback": [
      "\u001b[1;31m---------------------------------------------------------------------------\u001b[0m",
      "\u001b[1;31mNameError\u001b[0m                                 Traceback (most recent call last)",
      "Cell \u001b[1;32mIn[14], line 5\u001b[0m\n\u001b[0;32m      2\u001b[0m \u001b[39mfrom\u001b[39;00m \u001b[39mtext_summarizer\u001b[39;00m\u001b[39m.\u001b[39;00m\u001b[39mutils\u001b[39;00m\u001b[39m.\u001b[39;00m\u001b[39mcomon\u001b[39;00m \u001b[39mimport\u001b[39;00m read_yaml, create_directories\n\u001b[0;32m      3\u001b[0m \u001b[39mimport\u001b[39;00m \u001b[39mos\u001b[39;00m\n\u001b[1;32m----> 5\u001b[0m \u001b[39mclass\u001b[39;00m \u001b[39mConfigurationManager\u001b[39;00m:\n\u001b[0;32m      6\u001b[0m     \u001b[39mdef\u001b[39;00m \u001b[39m__init__\u001b[39m(\n\u001b[0;32m      7\u001b[0m             \u001b[39mself\u001b[39m,\n\u001b[0;32m      8\u001b[0m             config_file_path \u001b[39m=\u001b[39m PROJECT_DIR2\u001b[39m.\u001b[39mjoinpath(CONFIG_FILE_PATH),\n\u001b[0;32m      9\u001b[0m             params_file_path \u001b[39m=\u001b[39m PROJECT_DIR2\u001b[39m.\u001b[39mjoinpath(PARAMS_FILE_PATH)):\n\u001b[0;32m     11\u001b[0m         \u001b[39mprint\u001b[39m( read_yaml(config_file_path))\n",
      "Cell \u001b[1;32mIn[14], line 8\u001b[0m, in \u001b[0;36mConfigurationManager\u001b[1;34m()\u001b[0m\n\u001b[0;32m      5\u001b[0m \u001b[39mclass\u001b[39;00m \u001b[39mConfigurationManager\u001b[39;00m:\n\u001b[0;32m      6\u001b[0m     \u001b[39mdef\u001b[39;00m \u001b[39m__init__\u001b[39m(\n\u001b[0;32m      7\u001b[0m             \u001b[39mself\u001b[39m,\n\u001b[1;32m----> 8\u001b[0m             config_file_path \u001b[39m=\u001b[39m PROJECT_DIR2\u001b[39m.\u001b[39mjoinpath(CONFIG_FILE_PATH),\n\u001b[0;32m      9\u001b[0m             params_file_path \u001b[39m=\u001b[39m PROJECT_DIR2\u001b[39m.\u001b[39mjoinpath(PARAMS_FILE_PATH)):\n\u001b[0;32m     11\u001b[0m         \u001b[39mprint\u001b[39m( read_yaml(config_file_path))\n\u001b[0;32m     12\u001b[0m         \u001b[39m# print( read_yaml(os.path(\"../config/config.yaml\")))\u001b[39;00m\n",
      "\u001b[1;31mNameError\u001b[0m: name 'PROJECT_DIR2' is not defined"
     ]
    }
   ],
   "source": [
    "from text_summarizer.constants import *\n",
    "from text_summarizer.utils.comon import read_yaml, create_directories\n",
    "import os\n",
    "\n",
    "class ConfigurationManager:\n",
    "    def __init__(\n",
    "            self,\n",
    "            config_file_path = PROJECT_DIR.joinpath(CONFIG_FILE_PATH),\n",
    "            params_file_path = PROJECT_DIR.joinpath(PARAMS_FILE_PATH)):\n",
    "        \n",
    "        print( read_yaml(config_file_path))\n",
    "        # print( read_yaml(os.path(\"../config/config.yaml\")))\n",
    "        self.config = read_yaml(config_file_path)\n",
    "        self.params = read_yaml(params_file_path)\n",
    "        create_directories([PROJECT_DIR.joinpath(self.config.artifacts_root)])\n",
    "\n",
    "    def get_model_evaluation_config(self):\n",
    "        config = self.config.model_evaluation\n",
    "\n",
    "        create_directories([PROJECT_DIR.joinpath(self.config.root_dir)])\n",
    "        \n",
    "        model_evaluation_config = ModelEvaluationConfig(\n",
    "            root_dir = PROJECT_DIR.joinpath(config.root_dir),\n",
    "            artifacts_root = PROJECT_DIR.joinpath(config.artifacts_root),\n",
    "            model_name = PROJECT_DIR.joinpath(config.model_name),\n",
    "            model_type = PROJECT_DIR.joinpath(config.model_type),\n",
    "            model_version = PROJECT_DIR.joinpath(config.model_version),\n",
    "        )\n",
    "        return model_evaluation_config\n"
   ]
  },
  {
   "cell_type": "code",
   "execution_count": null,
   "metadata": {},
   "outputs": [],
   "source": []
  },
  {
   "cell_type": "code",
   "execution_count": 3,
   "metadata": {},
   "outputs": [
    {
     "name": "stderr",
     "output_type": "stream",
     "text": [
      "c:\\Users\\Mahmo\\.conda\\envs\\text_summazrizer\\lib\\site-packages\\tqdm\\auto.py:21: TqdmWarning: IProgress not found. Please update jupyter and ipywidgets. See https://ipywidgets.readthedocs.io/en/stable/user_install.html\n",
      "  from .autonotebook import tqdm as notebook_tqdm\n"
     ]
    }
   ],
   "source": [
    "from tqdm import tqdm\n",
    "import pandas as pd\n",
    "import torch\n",
    "from datasets import load_dataset, load_from_disk, load_metric\n",
    "from transformers import AutoModelForSeq2SeqLM, AutoTokenizer"
   ]
  },
  {
   "cell_type": "code",
   "execution_count": 4,
   "metadata": {},
   "outputs": [],
   "source": [
    "class ModelEvaluation:\n",
    "    def __inti__(self,config: ModelEvaluationConfig):\n",
    "        self.config = config\n",
    "    \n",
    "    def generate_batch_sized_chunks(self,list_of_elements,batch_size):\n",
    "        \"\"\"split the dataset into smaller batches that can be processed simultaneously\n",
    "        Yield successive batch-sized chunks from a list of elements.\"\"\"\n",
    "        for i in range(0,len(list_of_elements),batch_size):\n",
    "            yield list_of_elements[i:i+batch_size]\n",
    "    \n",
    "    def calculate_metric_on_test_dataset(self,dataset,metric,model,tokenizer,\n",
    "                                         batch_size=16,device=\"cuda\" if torch.cuda.is_available() else \"cpu\",\n",
    "                                         column_text=\"article\",column_summary=\"highlights\"):\n",
    "        article_batches = list(self.generate_batch_sized_chunks(dataset[column_text],batch_size))\n",
    "        target_batches = list(self.generate_batch_sized_chunks(dataset[column_summary],batch_size))\n",
    "        \n",
    "        for article_batch, target_batch in tqdm(\n",
    "                zip(article_batches,target_batches), total=len(article_batches)):\n",
    "\n",
    "            inputs = tokenizer(article_batch,max_length=1024, trucation=True,padding=\"max_length\",\n",
    "                               return_tensors=\"pt\")\n",
    "\n",
    "            summaries = model.generate(input_ids=inputs[\"input_ids\"].to(device),\n",
    "                                       attention_mask=inputs[\"attention_mask\"].to(device),\n",
    "                                       length_penalty=0.8, num_beams=8, max_length = 128)\n",
    "\n",
    "            decoded_summaries = [tokenizer.decode(summary,skip_special_tokens=True,clean_up_tokenization=True)\n",
    "                                 for summary in summaries]\n",
    "            decoded_summaries = [(d.replace(\"\",\" \")) for d in decoded_summaries ]   \n",
    "\n",
    "            metric.add_batch(predictions = decoded_summaries, references=target_batch)\n",
    "\n",
    "        # Compute and return ROUGE score\n",
    "        score = metric.compute()\n",
    "        return score\n",
    "    \n",
    "    def evaluate(self):\n",
    "        device=\"cuda\" if torch.cuda.is_available() else \"cpu\"\n",
    "        tokenizer = AutoTokenizer.from_pretrained(self.config.tokenizer_path)\n",
    "        model_pegasus = AutoModelForSeq2SeqLM.from_pretrained(self.config.model_path).to(device)\n",
    "\n",
    "        dataset_samsum_pt = load_from_disk(self.config.data_path)\n",
    "\n",
    "        rouge_name = [\"rouge1\", \"rouge2\", \"rougeL\", \"rougeLsum\" ]\n",
    "\n",
    "        rouge_metric = load_metric('rouge')\n",
    "        score = self.calculate_metric_on_test_dataset(\n",
    "            dataset_samsum_pt['test'][0:10], rouge_metric,model_pegasus,tokenizer,\n",
    "            batch_size=2,column_text='dialogue', column_summary= 'summary'\n",
    "        )\n",
    "\n",
    "\n",
    "        rouge_dict = dict((rn,score[rn].mid.fmeasure  ) for rn in rouge_name)\n",
    "\n",
    "        df = pd.DataFrame(rouge_dict , index = ['pegasus'])\n",
    "        df.to_csv(self.config.metric_file_name , index = False)\n",
    "\n",
    "\n"
   ]
  },
  {
   "cell_type": "code",
   "execution_count": 5,
   "metadata": {},
   "outputs": [
    {
     "name": "stdout",
     "output_type": "stream",
     "text": [
      "[2023-06-15 23:37:58,732: text_summarizer_logger - INFO:  comon: line 33, yaml file: G:\\currentProjects\\AI\\text_summarizer\\config\\config.yaml loaded successfully]\n",
      "{'artifacts_root': 'artifacts', 'data_ingestion': {'root_dir': 'artifacts/data_ingestion', 'source_URL': 'https://github.com/entbappy/Branching-tutorial/raw/master/summarizer-data.zip', 'local_data_file': 'artifacts/data_ingestion/data.zip', 'unzip_dir': 'artifacts/data_ingestion'}, 'data_validation': {'root_dir': 'artifacts/data_validation', 'STATUS_FILE': 'artifacts/data_validation/status.txt', 'ALL_REQUIRED_FILES': ['train', 'test', 'validation']}, 'data_transformation': {'root_dir': 'artifacts/data_transformation', 'data_path': 'artifacts/data_ingestion/samsum_dataset', 'tokenizer_name': 'google/pegasus-cnn_dailymail'}, 'model_trainer': {'root_dir': 'artifacts/model_trainer', 'data_path': 'artifacts/data_transformation/samsum_dataset', 'model_ckpt': 'google/pegasus-cnn_dailymail'}}\n",
      "[2023-06-15 23:37:58,744: text_summarizer_logger - INFO:  comon: line 33, yaml file: G:\\currentProjects\\AI\\text_summarizer\\config\\config.yaml loaded successfully]\n",
      "[2023-06-15 23:37:58,750: text_summarizer_logger - INFO:  comon: line 33, yaml file: G:\\currentProjects\\AI\\text_summarizer\\params.yaml loaded successfully]\n",
      "[2023-06-15 23:37:58,755: text_summarizer_logger - INFO:  comon: line 64, created directory: G:\\currentProjects\\AI\\text_summarizer\\artifacts]\n"
     ]
    },
    {
     "ename": "BoxKeyError",
     "evalue": "\"'ConfigBox' object has no attribute 'model_evaluation'\"",
     "output_type": "error",
     "traceback": [
      "\u001b[1;31m---------------------------------------------------------------------------\u001b[0m",
      "\u001b[1;31mKeyError\u001b[0m                                  Traceback (most recent call last)",
      "File \u001b[1;32mc:\\Users\\Mahmo\\.conda\\envs\\text_summazrizer\\lib\\site-packages\\box\\box.py:503\u001b[0m, in \u001b[0;36mbox.box.Box.__getitem__\u001b[1;34m()\u001b[0m\n",
      "\u001b[1;31mKeyError\u001b[0m: 'model_evaluation'",
      "\nThe above exception was the direct cause of the following exception:\n",
      "\u001b[1;31mBoxKeyError\u001b[0m                               Traceback (most recent call last)",
      "File \u001b[1;32mc:\\Users\\Mahmo\\.conda\\envs\\text_summazrizer\\lib\\site-packages\\box\\box.py:536\u001b[0m, in \u001b[0;36mbox.box.Box.__getattr__\u001b[1;34m()\u001b[0m\n",
      "File \u001b[1;32mc:\\Users\\Mahmo\\.conda\\envs\\text_summazrizer\\lib\\site-packages\\box\\box.py:524\u001b[0m, in \u001b[0;36mbox.box.Box.__getitem__\u001b[1;34m()\u001b[0m\n",
      "\u001b[1;31mBoxKeyError\u001b[0m: \"'model_evaluation'\"",
      "\nDuring handling of the above exception, another exception occurred:\n",
      "\u001b[1;31mAttributeError\u001b[0m                            Traceback (most recent call last)",
      "File \u001b[1;32mc:\\Users\\Mahmo\\.conda\\envs\\text_summazrizer\\lib\\site-packages\\box\\box.py:538\u001b[0m, in \u001b[0;36mbox.box.Box.__getattr__\u001b[1;34m()\u001b[0m\n",
      "\u001b[1;31mAttributeError\u001b[0m: 'ConfigBox' object has no attribute 'model_evaluation'",
      "\nThe above exception was the direct cause of the following exception:\n",
      "\u001b[1;31mBoxKeyError\u001b[0m                               Traceback (most recent call last)",
      "File \u001b[1;32mc:\\Users\\Mahmo\\.conda\\envs\\text_summazrizer\\lib\\site-packages\\box\\config_box.py:28\u001b[0m, in \u001b[0;36mbox.config_box.ConfigBox.__getattr__\u001b[1;34m()\u001b[0m\n",
      "File \u001b[1;32mc:\\Users\\Mahmo\\.conda\\envs\\text_summazrizer\\lib\\site-packages\\box\\box.py:552\u001b[0m, in \u001b[0;36mbox.box.Box.__getattr__\u001b[1;34m()\u001b[0m\n",
      "\u001b[1;31mBoxKeyError\u001b[0m: \"'ConfigBox' object has no attribute 'model_evaluation'\"",
      "\nDuring handling of the above exception, another exception occurred:\n",
      "\u001b[1;31mKeyError\u001b[0m                                  Traceback (most recent call last)",
      "File \u001b[1;32mc:\\Users\\Mahmo\\.conda\\envs\\text_summazrizer\\lib\\site-packages\\box\\box.py:503\u001b[0m, in \u001b[0;36mbox.box.Box.__getitem__\u001b[1;34m()\u001b[0m\n",
      "\u001b[1;31mKeyError\u001b[0m: 'model_evaluation'",
      "\nThe above exception was the direct cause of the following exception:\n",
      "\u001b[1;31mBoxKeyError\u001b[0m                               Traceback (most recent call last)",
      "File \u001b[1;32mc:\\Users\\Mahmo\\.conda\\envs\\text_summazrizer\\lib\\site-packages\\box\\box.py:536\u001b[0m, in \u001b[0;36mbox.box.Box.__getattr__\u001b[1;34m()\u001b[0m\n",
      "File \u001b[1;32mc:\\Users\\Mahmo\\.conda\\envs\\text_summazrizer\\lib\\site-packages\\box\\box.py:524\u001b[0m, in \u001b[0;36mbox.box.Box.__getitem__\u001b[1;34m()\u001b[0m\n",
      "\u001b[1;31mBoxKeyError\u001b[0m: \"'model_evaluation'\"",
      "\nDuring handling of the above exception, another exception occurred:\n",
      "\u001b[1;31mAttributeError\u001b[0m                            Traceback (most recent call last)",
      "File \u001b[1;32mc:\\Users\\Mahmo\\.conda\\envs\\text_summazrizer\\lib\\site-packages\\box\\box.py:538\u001b[0m, in \u001b[0;36mbox.box.Box.__getattr__\u001b[1;34m()\u001b[0m\n",
      "\u001b[1;31mAttributeError\u001b[0m: 'ConfigBox' object has no attribute 'model_evaluation'",
      "\nThe above exception was the direct cause of the following exception:\n",
      "\u001b[1;31mBoxKeyError\u001b[0m                               Traceback (most recent call last)",
      "Cell \u001b[1;32mIn[5], line 7\u001b[0m\n\u001b[0;32m      5\u001b[0m     model_evaluation_config\u001b[39m.\u001b[39mevaluate()\n\u001b[0;32m      6\u001b[0m \u001b[39mexcept\u001b[39;00m \u001b[39mException\u001b[39;00m  \u001b[39mas\u001b[39;00m e:\n\u001b[1;32m----> 7\u001b[0m     \u001b[39mraise\u001b[39;00m e\n",
      "Cell \u001b[1;32mIn[5], line 3\u001b[0m\n\u001b[0;32m      1\u001b[0m \u001b[39mtry\u001b[39;00m:\n\u001b[0;32m      2\u001b[0m     config \u001b[39m=\u001b[39m ConfigurationManager()\n\u001b[1;32m----> 3\u001b[0m     model_evaluation_config \u001b[39m=\u001b[39m config\u001b[39m.\u001b[39;49mget_model_evaluation_config()\n\u001b[0;32m      4\u001b[0m     model_evaluation_config \u001b[39m=\u001b[39m ModelEvaluation(config\u001b[39m=\u001b[39m model_evaluation_config)\n\u001b[0;32m      5\u001b[0m     model_evaluation_config\u001b[39m.\u001b[39mevaluate()\n",
      "Cell \u001b[1;32mIn[2], line 18\u001b[0m, in \u001b[0;36mConfigurationManager.get_model_evaluation_config\u001b[1;34m(self)\u001b[0m\n\u001b[0;32m     17\u001b[0m \u001b[39mdef\u001b[39;00m \u001b[39mget_model_evaluation_config\u001b[39m(\u001b[39mself\u001b[39m):\n\u001b[1;32m---> 18\u001b[0m     config \u001b[39m=\u001b[39m \u001b[39mself\u001b[39;49m\u001b[39m.\u001b[39;49mconfig\u001b[39m.\u001b[39;49mmodel_evaluation\n\u001b[0;32m     20\u001b[0m     create_directories([PROJECT_DIR\u001b[39m.\u001b[39mjoinpath(\u001b[39mself\u001b[39m\u001b[39m.\u001b[39mconfig\u001b[39m.\u001b[39mroot_dir)])\n\u001b[0;32m     22\u001b[0m     model_evaluation_config \u001b[39m=\u001b[39m ModelEvaluationConfig(\n\u001b[0;32m     23\u001b[0m         root_dir \u001b[39m=\u001b[39m PROJECT_DIR\u001b[39m.\u001b[39mjoinpath(config\u001b[39m.\u001b[39mroot_dir),\n\u001b[0;32m     24\u001b[0m         artifacts_root \u001b[39m=\u001b[39m PROJECT_DIR\u001b[39m.\u001b[39mjoinpath(config\u001b[39m.\u001b[39martifacts_root),\n\u001b[1;32m   (...)\u001b[0m\n\u001b[0;32m     27\u001b[0m         model_version \u001b[39m=\u001b[39m PROJECT_DIR\u001b[39m.\u001b[39mjoinpath(config\u001b[39m.\u001b[39mmodel_version),\n\u001b[0;32m     28\u001b[0m     )\n",
      "File \u001b[1;32mc:\\Users\\Mahmo\\.conda\\envs\\text_summazrizer\\lib\\site-packages\\box\\config_box.py:30\u001b[0m, in \u001b[0;36mbox.config_box.ConfigBox.__getattr__\u001b[1;34m()\u001b[0m\n",
      "File \u001b[1;32mc:\\Users\\Mahmo\\.conda\\envs\\text_summazrizer\\lib\\site-packages\\box\\box.py:552\u001b[0m, in \u001b[0;36mbox.box.Box.__getattr__\u001b[1;34m()\u001b[0m\n",
      "\u001b[1;31mBoxKeyError\u001b[0m: \"'ConfigBox' object has no attribute 'model_evaluation'\""
     ]
    }
   ],
   "source": [
    "try:\n",
    "    config = ConfigurationManager()\n",
    "    model_evaluation_config = config.get_model_evaluation_config()\n",
    "    model_evaluation_config = ModelEvaluation(config= model_evaluation_config)\n",
    "    model_evaluation_config.evaluate()\n",
    "except Exception  as e:\n",
    "    raise e"
   ]
  },
  {
   "cell_type": "code",
   "execution_count": null,
   "metadata": {},
   "outputs": [],
   "source": []
  }
 ],
 "metadata": {
  "kernelspec": {
   "display_name": "text_summazrizer",
   "language": "python",
   "name": "python3"
  },
  "language_info": {
   "codemirror_mode": {
    "name": "ipython",
    "version": 3
   },
   "file_extension": ".py",
   "mimetype": "text/x-python",
   "name": "python",
   "nbconvert_exporter": "python",
   "pygments_lexer": "ipython3",
   "version": "3.8.16"
  },
  "orig_nbformat": 4
 },
 "nbformat": 4,
 "nbformat_minor": 2
}
